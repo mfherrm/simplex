{
 "cells": [
  {
   "cell_type": "code",
   "execution_count": 31,
   "metadata": {},
   "outputs": [],
   "source": [
    "import pandas as pd"
   ]
  },
  {
   "cell_type": "code",
   "execution_count": 40,
   "metadata": {},
   "outputs": [],
   "source": [
    "df = pd.read_csv('data_nonne_enriched_full_dropped_na.csv')"
   ]
  },
  {
   "cell_type": "code",
   "execution_count": 41,
   "metadata": {},
   "outputs": [],
   "source": [
    "df.to_parquet('data_nonne_enriched_full_dropped_na.parquet')"
   ]
  },
  {
   "cell_type": "code",
   "execution_count": 42,
   "metadata": {},
   "outputs": [],
   "source": [
    "dft = pd.read_parquet('data_nonne_enriched_full_dropped_na.parquet')"
   ]
  },
  {
   "cell_type": "code",
   "execution_count": 43,
   "metadata": {},
   "outputs": [
    {
     "name": "stdout",
     "output_type": "stream",
     "text": [
      "Keys in Parquet are identical, types are identical, and object types are identical\n"
     ]
    }
   ],
   "source": [
    "def map_boolean(value):\n",
    "    \"\"\"\n",
    "    Maps a single boolean value to 'identical' or 'different'.\n",
    "    \n",
    "    Args:\n",
    "        value (bool): The boolean value.\n",
    "        \n",
    "    Returns:\n",
    "        str: 'identical' if value is True, 'different' if value is False.\n",
    "    \"\"\"\n",
    "    if value:\n",
    "        return \"identical\"\n",
    "    else:\n",
    "        return \"different\"\n",
    "\n",
    "k= pd.unique(df.keys()==dft.keys())\n",
    "t = pd.unique(df.dtypes)== pd.unique(dft.dtypes)\n",
    "ot = pd.unique((df.select_dtypes('O')==dft.select_dtypes('O')).datum)\n",
    "\n",
    "print(f\"Keys in Parquet are {map_boolean(k[0])}, types are {map_boolean(t[0])}, and object types are {map_boolean(ot[0])}\")"
   ]
  }
 ],
 "metadata": {
  "kernelspec": {
   "display_name": "spx",
   "language": "python",
   "name": "python3"
  },
  "language_info": {
   "codemirror_mode": {
    "name": "ipython",
    "version": 3
   },
   "file_extension": ".py",
   "mimetype": "text/x-python",
   "name": "python",
   "nbconvert_exporter": "python",
   "pygments_lexer": "ipython3",
   "version": "3.13.5"
  }
 },
 "nbformat": 4,
 "nbformat_minor": 4
}
